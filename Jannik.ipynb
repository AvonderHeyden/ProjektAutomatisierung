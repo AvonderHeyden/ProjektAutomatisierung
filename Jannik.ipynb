{
 "metadata": {
  "language_info": {
   "codemirror_mode": {
    "name": "ipython",
    "version": 3
   },
   "file_extension": ".py",
   "mimetype": "text/x-python",
   "name": "python",
   "nbconvert_exporter": "python",
   "pygments_lexer": "ipython3",
   "version": 3
  },
  "orig_nbformat": 2
 },
 "nbformat": 4,
 "nbformat_minor": 2,
 "cells": [
  {
   "cell_type": "code",
   "execution_count": null,
   "metadata": {},
   "outputs": [],
   "source": [
    "import requests\n",
    "from bs4 import BeautifulSoup\n",
    "import pandas as pd\n",
    "import urllib3\n",
    "import regex\n",
    "from datetime import date\n",
    "from selenium import webdriver\n",
    "from selenium.webdriver.common.keys import Keys"
   ]
  },
  {
   "cell_type": "code",
   "execution_count": null,
   "metadata": {},
   "outputs": [],
   "source": [
    "Begriffe = [\"Data Engineer\", \"Data Warehouse\", \"Datawarehouse\", \"DWH\", \"Business Intelligence\", \"Business Analyse\", \"Business Analyst\", \"Product Owner Data\", \"Product Owner Data Analytics\", \"Requirements Engineer Data\", \"Requirements Engineer Data Analytics\", \"Scrum Master Data\", \"Scrum Master Data Analytics\", \"Power BI\", \"Hichert\", \"IBCS\", \"Tableau\"]"
   ]
  }
 ]
}