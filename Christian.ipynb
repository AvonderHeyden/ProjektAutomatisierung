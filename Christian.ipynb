{
 "cells": [
  {
   "cell_type": "code",
   "execution_count": 1,
   "metadata": {},
   "outputs": [],
   "source": [
    "import requests\n",
    "from bs4 import BeautifulSoup\n",
    "import pandas as pd\n",
    "import urllib3\n",
    "import regex\n",
    "from datetime import date\n",
    "from selenium import webdriver\n",
    "from selenium.webdriver.common.keys import Keys\n",
    "import time\n",
    "import csv"
   ]
  },
  {
   "cell_type": "markdown",
   "metadata": {},
   "source": [
    "### Hays"
   ]
  },
  {
   "cell_type": "code",
   "execution_count": 2,
   "metadata": {},
   "outputs": [],
   "source": [
    "ChristianBegriffe = [\"Hadoop\", \"Spark\", \"Cloudera\", \"Big+Data\", \"Kafka\", \"Elastic\", \"Hive\", \"Hortonworks\", \"Data+Engineer\", \"Data+Warehouse\", \"Datawarehouse\", \"DWH\", \"Data+Science\", \"Data+Scientist\", \"Python\", \"AWS\", \"GCP\", \"Pub/Sub\", \"Redshift\", \"Lift+&+Shift\", \"Google+Cloud\", \"Dataproc\", \"Datafusion\", \"Athena\", \"EMR\"]\n",
    "# AndreBegriffe =\n",
    "# FrankBegriffe =\n",
    "#usw.\n",
    "\n",
    "alle_fks = [(\"Christian\", ChristianBegriffe)] # hier auch die anderen einfügen"
   ]
  },
  {
   "cell_type": "markdown",
   "metadata": {},
   "source": [
    "Tauscht Begriffe in URL aus"
   ]
  },
  {
   "cell_type": "code",
   "execution_count": 3,
   "metadata": {},
   "outputs": [],
   "source": [
    "#Lift and Shift Sonderfall (K: fixed)\n",
    "def changeURLHays(Begriffe): \n",
    "    url_list = []\n",
    "    i = 0\n",
    "    url = \"https://www.hays.de/jobsuche/stellenangebote-jobs/j/Contracting/3/c/Deutschland/D1641BCE-D56C-11D3-AFB2-00105AB00B48/p/1/?q=Hadoop&e=false\"\n",
    "    while(i < len(Begriffe) - 1):\n",
    "        url = url.replace(Begriffe[i], Begriffe[i+1])\n",
    "        # print(url)\n",
    "        i = i+1\n",
    "        url_list.append(url)\n",
    "    return url_list"
   ]
  },
  {
   "cell_type": "markdown",
   "metadata": {},
   "source": [
    "Speichert Ergebnislinks in Liste"
   ]
  },
  {
   "cell_type": "code",
   "execution_count": 4,
   "metadata": {},
   "outputs": [],
   "source": [
    "def getLinksHays(url): \n",
    "    page = requests.get(url)\n",
    "    soup = BeautifulSoup(page.text, 'lxml')\n",
    "    links = []\n",
    "    for link in soup.findAll('a', class_ = 'search__result__header__a', attrs={'href': regex.compile(\"https://\")}): \n",
    "        links.append(link.get('href'))\n",
    "    return links\n",
    "# print(getLinksHays(\"https://www.hays.de/jobsuche/stellenangebote-jobs/j/Contracting/3/c/Deutschland/D1641BCE-D56C-11D3-AFB2-00105AB00B48/p/1/?q=Hadoop&e=false\"))"
   ]
  },
  {
   "cell_type": "code",
   "execution_count": 5,
   "metadata": {},
   "outputs": [],
   "source": [
    "def getTitleHays(url):\n",
    "    page = requests.get(url)\n",
    "    soup = BeautifulSoup(page.text, 'lxml')\n",
    "    title = soup.find('h1', class_ = 'hays__job__details__job__title').text\n",
    "    return title\n",
    "\n",
    "# print(getTitleHays(\"https://www.hays.de/jobsuche/stellenangebote-jobs-detail-devops-engineer-data-science-customer-relationship-management--crm-bonn-521743/1\"))"
   ]
  },
  {
   "cell_type": "code",
   "execution_count": 6,
   "metadata": {},
   "outputs": [],
   "source": [
    "def saveResults(result_list, fk):\n",
    "    with open('./results_{}.csv'.format(fk), 'a+') as corpus_file:\n",
    "        wr = csv.writer(corpus_file)\n",
    "        wr.writerow(result_list)"
   ]
  },
  {
   "cell_type": "code",
   "execution_count": null,
   "metadata": {},
   "outputs": [
    {
     "name": "stdout",
     "output_type": "stream",
     "text": [
      "Christian\n",
      "24\n"
     ]
    }
   ],
   "source": [
    "for fk, begriffe in alle_fks:\n",
    "    print(fk)\n",
    "    job_links = []\n",
    "    i = 0\n",
    "    \n",
    "    # links for keywords\n",
    "    hays_urls = changeURLHays(begriffe)\n",
    "    print(len(hays_urls))\n",
    "    \n",
    "    # get joblinks for every keyword\n",
    "    for u in hays_urls:\n",
    "        i += 1\n",
    "        job_links = getLinksHays(u)\n",
    "    \n",
    "        # get title for every joblink\n",
    "        for l in job_links:\n",
    "            title = getTitleHays(l)\n",
    "            result_list = [str(fk), title, str(begriffe[i]), \"hays\", l]\n",
    "            saveResults(result_list, fk)\n",
    "    "
   ]
  },
  {
   "cell_type": "markdown",
   "metadata": {},
   "source": [
    "Hier soll das Ergebnis-Dataframe entstehen"
   ]
  },
  {
   "cell_type": "code",
   "execution_count": null,
   "metadata": {},
   "outputs": [],
   "source": [
    "data = {'Name':[\"Christian\"], \n",
    "'Titel':[\"Fuelldaten\"], \n",
    "'Stichwort':[\"Hadoop\"],\n",
    "'Plattform':[\"Hays\"],\n",
    "'Link':[\"https://www.hays.de/jobsuche/stellenangebote-jobs/j/Contracting/3/c/Deutschland/D1641BCE-D56C-11D3-AFB2-00105AB00B48/p/1/?q=Hadoop&e=false\"]} \n",
    "\n",
    "#Mir fehlen noch die Titel (muss ich noch scrapen)\n",
    "nextData = {'Name':[\"Christian\"], 'Titel':[]}\n",
    "\n",
    "tagX = pd.DataFrame(data)\n",
    "print(tagX)"
   ]
  },
  {
   "cell_type": "markdown",
   "metadata": {},
   "source": [
    "### Gulp"
   ]
  },
  {
   "cell_type": "markdown",
   "metadata": {},
   "source": [
    "Tauscht Begriffe in URL aus"
   ]
  },
  {
   "cell_type": "code",
   "execution_count": null,
   "metadata": {},
   "outputs": [],
   "source": [
    "def changeURLGulp(Begriffe): \n",
    "     i = 0\n",
    "     url = \"https://www.gulp.de/gulp2/g/projekte?scope=projects&query=Hadoop&order=DATE_DESC&region=D0&region=D1&region=D2&region=D3&region=D4&region=D5&region=D6&region=D7&region=D8&region=D9\"\n",
    "     while(i < len(Begriffe)): \n",
    "        url = url.replace(Begriffe[i], Begriffe[i+1])\n",
    "        print(url)\n",
    "        i = i+1\n",
    "changeURLGulp(Begriffe)"
   ]
  },
  {
   "cell_type": "markdown",
   "metadata": {},
   "source": [
    "Speichert Ergebnislinks in Liste"
   ]
  },
  {
   "cell_type": "code",
   "execution_count": null,
   "metadata": {},
   "outputs": [],
   "source": [
    "#DEBUG\n",
    "def getLinksGulp(url): \n",
    "    page = requests.get(url)\n",
    "    soup = BeautifulSoup(page.text, 'lxml')\n",
    "    links = []\n",
    "    baseUrl = \"https://gulp.de\"\n",
    "    for link in soup.findAll('a', href=True): \n",
    "        newLink = baseUrl.join(link)\n",
    "        #links.append(link.get('href'))\n",
    "    return newLink\n",
    "print(getLinksGulp(\"https://www.gulp.de/gulp2/g/projekte?scope=projects&query=Hadoop&order=DATE_DESC&region=D0&region=D1&region=D2&region=D3&region=D4&region=D5&region=D6&region=D7&region=D8&region=D9\"))"
   ]
  },
  {
   "cell_type": "markdown",
   "metadata": {},
   "source": [
    "### Solcom"
   ]
  },
  {
   "cell_type": "code",
   "execution_count": null,
   "metadata": {},
   "outputs": [],
   "source": [
    "# Benutze Google Chrome und es ist lokal gespeichert\n",
    "\n",
    "driver = webdriver.Chrome('/Users/vonderheyden/Downloads/chromedriver_win32/chromedriver.exe')\n",
    "driver.get('https://www.solcom.de/de/projektportal/projektangebote')\n",
    "\n",
    "# Stellt die Standardfilter ein\n",
    "def editFilter(): \n",
    "    driver.find_element_by_id(\"keyword\").send_keys(\"Hadoop\") # Default: Erster Begriff\n",
    "    time.sleep(1)\n",
    "    driver.find_element_by_class_name(\"prio1.acceptall\").click()\n",
    "    driver.find_element_by_class_name(\"current-selection\").click()\n",
    "    driver.find_element_by_xpath('//*[@id=\"main\"]/div/div/div/div/div/div[1]/div[1]/form/div[3]/div/div[2]/ul/li[2]/div/ins').click()\n",
    "    driver.find_element_by_xpath('//*[@id=\"main\"]/div/div/div/div/div/div[1]/div[1]/form/div[3]/div/div[2]/ul/li[5]/div[1]/ins').click()\n",
    "    driver.find_element_by_xpath('//*[@id=\"main\"]/div/div/div/div/div/div[1]/div[1]/form/button[1]').click()\n",
    "\n",
    "editFilter()\n",
    "\n"
   ]
  },
  {
   "cell_type": "markdown",
   "metadata": {},
   "source": [
    "### Westhouse"
   ]
  },
  {
   "cell_type": "code",
   "execution_count": null,
   "metadata": {},
   "outputs": [],
   "source": [
    "driver = webdriver.Chrome('/Users/vonderheyden/Downloads/chromedriver_win32/chromedriver.exe')\n",
    "driver.get('https://www.westhouse-group.com/en/for_candidates')\n",
    "\n",
    "# Stellt die Standardfilter ein\n",
    "# F oder P muss bei der aktiven Informationsextraktion gefiltert werden\n",
    "def editFilter(): \n",
    "    time.sleep(1)\n",
    "    driver.find_element_by_xpath('//*[@id=\"CookieBoxSaveButton\"]').click()\n",
    "    time.sleep(1)\n",
    "    driver.find_element_by_id('job-finder-search-keyword').send_keys(\"Hadoop\")\n",
    "    driver.find_element_by_xpath('//*[@id=\"headingjobtype2\"]/p/a/span/i[1]').click()\n",
    "\n",
    "editFilter()"
   ]
  },
  {
   "cell_type": "markdown",
   "metadata": {},
   "source": [
    "### Freelancermap"
   ]
  },
  {
   "cell_type": "code",
   "execution_count": null,
   "metadata": {},
   "outputs": [],
   "source": [
    "driver = webdriver.Chrome(\"/Users/vonderheyden/Downloads/chromedriver_win32/chromedriver.exe\")\n",
    "# Gefiltert ohne Hadoop\n",
    "driver.get(\"https://www.freelancermap.de/projektboerse.html?profisuche=1&pq_vertragsart%5Bcontract_type.remote%5D=REMOTE&pq_projekteinstellung=0&pq_sorttype=1&mCats%5B0%5D=1&mCats%5B1%5D=2&mCats%5B2%5D=3&mCats%5B3%5D=4&mCats%5B4%5D=5&mCats%5B5%5D=6&sCou%5B0%5D=1\")\n",
    "\n",
    "# Hadoop eingegeben\n",
    "\"https://www.freelancermap.de/?module=projekt&func=suchergebnisse&pq=Hadoop&profisuche=0&pq_sorttype=1&mCats[]=1&mCats[]=2&mCats[]=3&mCats[]=4&mCats[]=5&mCats[]=6&redirect=1\""
   ]
  }
 ],
 "metadata": {
  "kernelspec": {
   "display_name": "Python 3",
   "language": "python",
   "name": "python3"
  },
  "language_info": {
   "codemirror_mode": {
    "name": "ipython",
    "version": 3
   },
   "file_extension": ".py",
   "mimetype": "text/x-python",
   "name": "python",
   "nbconvert_exporter": "python",
   "pygments_lexer": "ipython3",
   "version": "3.8.5"
  }
 },
 "nbformat": 4,
 "nbformat_minor": 2
}
