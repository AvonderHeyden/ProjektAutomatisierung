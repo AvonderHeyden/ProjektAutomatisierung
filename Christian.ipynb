{
 "cells": [
  {
   "cell_type": "code",
   "execution_count": 3,
   "metadata": {},
   "outputs": [],
   "source": [
    "import requests\n",
    "from bs4 import BeautifulSoup\n",
    "import pandas as pd\n",
    "import urllib3\n",
    "import regex\n",
    "from datetime import date\n",
    "from selenium import webdriver\n",
    "from selenium.webdriver.common.keys import Keys\n",
    "import time"
   ]
  },
  {
   "cell_type": "markdown",
   "metadata": {},
   "source": [
    "### Hays"
   ]
  },
  {
   "cell_type": "code",
   "execution_count": 6,
   "metadata": {},
   "outputs": [],
   "source": [
    "Begriffe = [\"Hadoop\", \"Spark\", \"Cloudera\", \"Big+Data\", \"Kafka\", \"Elastic\", \"Hive\", \"Hortonworks\", \"Data+Engineer\", \"Data+Warehouse\", \"Datawarehouse\", \"DWH\", \"Data+Science\", \"Data+Scientist\", \"Python\", \"AWS\", \"GCP\", \"Pub/Sub\", \"Redshift\", \"Lift+&+Shift\", \"Google+Cloud\", \"Dataproc\", \"Datafusion\", \"Athena\", \"EMR\"]\n"
   ]
  },
  {
   "cell_type": "markdown",
   "metadata": {},
   "source": [
    "Tauscht Begriffe in URL aus"
   ]
  },
  {
   "cell_type": "code",
   "execution_count": 7,
   "metadata": {},
   "outputs": [
    {
     "name": "stdout",
     "output_type": "stream",
     "text": [
      "https://www.hays.de/jobsuche/stellenangebote-jobs/j/Contracting/3/c/Deutschland/D1641BCE-D56C-11D3-AFB2-00105AB00B48/p/1/?q=Spark&e=false\n",
      "https://www.hays.de/jobsuche/stellenangebote-jobs/j/Contracting/3/c/Deutschland/D1641BCE-D56C-11D3-AFB2-00105AB00B48/p/1/?q=Cloudera&e=false\n",
      "https://www.hays.de/jobsuche/stellenangebote-jobs/j/Contracting/3/c/Deutschland/D1641BCE-D56C-11D3-AFB2-00105AB00B48/p/1/?q=Big+Data&e=false\n",
      "https://www.hays.de/jobsuche/stellenangebote-jobs/j/Contracting/3/c/Deutschland/D1641BCE-D56C-11D3-AFB2-00105AB00B48/p/1/?q=Kafka&e=false\n",
      "https://www.hays.de/jobsuche/stellenangebote-jobs/j/Contracting/3/c/Deutschland/D1641BCE-D56C-11D3-AFB2-00105AB00B48/p/1/?q=Elastic&e=false\n",
      "https://www.hays.de/jobsuche/stellenangebote-jobs/j/Contracting/3/c/Deutschland/D1641BCE-D56C-11D3-AFB2-00105AB00B48/p/1/?q=Hive&e=false\n",
      "https://www.hays.de/jobsuche/stellenangebote-jobs/j/Contracting/3/c/Deutschland/D1641BCE-D56C-11D3-AFB2-00105AB00B48/p/1/?q=Hortonworks&e=false\n",
      "https://www.hays.de/jobsuche/stellenangebote-jobs/j/Contracting/3/c/Deutschland/D1641BCE-D56C-11D3-AFB2-00105AB00B48/p/1/?q=Data+Engineer&e=false\n",
      "https://www.hays.de/jobsuche/stellenangebote-jobs/j/Contracting/3/c/Deutschland/D1641BCE-D56C-11D3-AFB2-00105AB00B48/p/1/?q=Data+Warehouse&e=false\n",
      "https://www.hays.de/jobsuche/stellenangebote-jobs/j/Contracting/3/c/Deutschland/D1641BCE-D56C-11D3-AFB2-00105AB00B48/p/1/?q=Datawarehouse&e=false\n",
      "https://www.hays.de/jobsuche/stellenangebote-jobs/j/Contracting/3/c/Deutschland/D1641BCE-D56C-11D3-AFB2-00105AB00B48/p/1/?q=DWH&e=false\n",
      "https://www.hays.de/jobsuche/stellenangebote-jobs/j/Contracting/3/c/Deutschland/D1641BCE-D56C-11D3-AFB2-00105AB00B48/p/1/?q=Data+Science&e=false\n",
      "https://www.hays.de/jobsuche/stellenangebote-jobs/j/Contracting/3/c/Deutschland/D1641BCE-D56C-11D3-AFB2-00105AB00B48/p/1/?q=Data+Scientist&e=false\n",
      "https://www.hays.de/jobsuche/stellenangebote-jobs/j/Contracting/3/c/Deutschland/D1641BCE-D56C-11D3-AFB2-00105AB00B48/p/1/?q=Python&e=false\n",
      "https://www.hays.de/jobsuche/stellenangebote-jobs/j/Contracting/3/c/Deutschland/D1641BCE-D56C-11D3-AFB2-00105AB00B48/p/1/?q=AWS&e=false\n",
      "https://www.hays.de/jobsuche/stellenangebote-jobs/j/Contracting/3/c/Deutschland/D1641BCE-D56C-11D3-AFB2-00105AB00B48/p/1/?q=GCP&e=false\n",
      "https://www.hays.de/jobsuche/stellenangebote-jobs/j/Contracting/3/c/Deutschland/D1641BCE-D56C-11D3-AFB2-00105AB00B48/p/1/?q=Pub/Sub&e=false\n",
      "https://www.hays.de/jobsuche/stellenangebote-jobs/j/Contracting/3/c/Deutschland/D1641BCE-D56C-11D3-AFB2-00105AB00B48/p/1/?q=Redshift&e=false\n",
      "https://www.hays.de/jobsuche/stellenangebote-jobs/j/Contracting/3/c/Deutschland/D1641BCE-D56C-11D3-AFB2-00105AB00B48/p/1/?q=Lift+&+Shift&e=false\n",
      "https://www.hays.de/jobsuche/stellenangebote-jobs/j/Contracting/3/c/Deutschland/D1641BCE-D56C-11D3-AFB2-00105AB00B48/p/1/?q=Google+Cloud&e=false\n",
      "https://www.hays.de/jobsuche/stellenangebote-jobs/j/Contracting/3/c/Deutschland/D1641BCE-D56C-11D3-AFB2-00105AB00B48/p/1/?q=Dataproc&e=false\n",
      "https://www.hays.de/jobsuche/stellenangebote-jobs/j/Contracting/3/c/Deutschland/D1641BCE-D56C-11D3-AFB2-00105AB00B48/p/1/?q=Datafusion&e=false\n",
      "https://www.hays.de/jobsuche/stellenangebote-jobs/j/Contracting/3/c/Deutschland/D1641BCE-D56C-11D3-AFB2-00105AB00B48/p/1/?q=Athena&e=false\n",
      "https://www.hays.de/jobsuche/stellenangebote-jobs/j/Contracting/3/c/Deutschland/D1641BCE-D56C-11D3-AFB2-00105AB00B48/p/1/?q=EMR&e=false\n"
     ]
    }
   ],
   "source": [
    "#Lift and Shift Sonderfall (K: fixed)\n",
    "def changeURLHays(Begriffe): \n",
    "    i = 0\n",
    "    url = \"https://www.hays.de/jobsuche/stellenangebote-jobs/j/Contracting/3/c/Deutschland/D1641BCE-D56C-11D3-AFB2-00105AB00B48/p/1/?q=Hadoop&e=false\"\n",
    "    while(i < len(Begriffe) - 1):\n",
    "        url = url.replace(Begriffe[i], Begriffe[i+1])\n",
    "        print(url)\n",
    "        i = i+1\n",
    "changeURLHays(Begriffe)"
   ]
  },
  {
   "cell_type": "markdown",
   "metadata": {},
   "source": [
    "Speichert Ergebnislinks in Liste"
   ]
  },
  {
   "cell_type": "code",
   "execution_count": 8,
   "metadata": {},
   "outputs": [
    {
     "name": "stdout",
     "output_type": "stream",
     "text": [
      "['https://www.hays.de/jobsuche/stellenangebote-jobs-detail-devops-engineer-data-science-customer-relationship-management--crm-bonn-521743/1']\n"
     ]
    }
   ],
   "source": [
    "def getLinksHays(url): \n",
    "    page = requests.get(url)\n",
    "    soup = BeautifulSoup(page.text, 'lxml')\n",
    "    links = []\n",
    "    titles = []\n",
    "    for link in soup.findAll('a', class_ = 'search__result__header__a', attrs={'href': regex.compile(\"https://\")}): \n",
    "        links.append(link.get('href'))\n",
    "    return links\n",
    "print(getLinksHays(\"https://www.hays.de/jobsuche/stellenangebote-jobs/j/Contracting/3/c/Deutschland/D1641BCE-D56C-11D3-AFB2-00105AB00B48/p/1/?q=Hadoop&e=false\"))"
   ]
  },
  {
   "cell_type": "code",
   "execution_count": 12,
   "metadata": {},
   "outputs": [
    {
     "name": "stdout",
     "output_type": "stream",
     "text": [
      "DevOps-Engineer (Data Science) (Customer Relationship Management  - CRM) (m/w/d)\n"
     ]
    }
   ],
   "source": [
    "def getTitleHays(url):\n",
    "    page = requests.get(url)\n",
    "    soup = BeautifulSoup(page.text, 'lxml')\n",
    "    title = soup.find('h1', class_ = 'hays__job__details__job__title').text\n",
    "    return title\n",
    "\n",
    "print(getTitleHays(\"https://www.hays.de/jobsuche/stellenangebote-jobs-detail-devops-engineer-data-science-customer-relationship-management--crm-bonn-521743/1\"))"
   ]
  },
  {
   "cell_type": "markdown",
   "metadata": {},
   "source": [
    "Hier soll das Ergebnis-Dataframe entstehen"
   ]
  },
  {
   "cell_type": "code",
   "execution_count": null,
   "metadata": {},
   "outputs": [],
   "source": [
    "data = {'Name':[\"Christian\"], \n",
    "'Titel':[\"Fuelldaten\"], \n",
    "'Stichwort':[\"Hadoop\"],\n",
    "'Plattform':[\"Hays\"],\n",
    "'Link':[\"https://www.hays.de/jobsuche/stellenangebote-jobs/j/Contracting/3/c/Deutschland/D1641BCE-D56C-11D3-AFB2-00105AB00B48/p/1/?q=Hadoop&e=false\"]} \n",
    "\n",
    "#Mir fehlen noch die Titel (muss ich noch scrapen)\n",
    "nextData = {'Name':[\"Christian\"], 'Titel':[]}\n",
    "\n",
    "tagX = pd.DataFrame(data)\n",
    "print(tagX)"
   ]
  },
  {
   "cell_type": "markdown",
   "metadata": {},
   "source": [
    "### Gulp"
   ]
  },
  {
   "cell_type": "markdown",
   "metadata": {},
   "source": [
    "Tauscht Begriffe in URL aus"
   ]
  },
  {
   "cell_type": "code",
   "execution_count": null,
   "metadata": {},
   "outputs": [],
   "source": [
    "def changeURLGulp(Begriffe): \n",
    "     i = 0\n",
    "     url = \"https://www.gulp.de/gulp2/g/projekte?scope=projects&query=Hadoop&order=DATE_DESC&region=D0&region=D1&region=D2&region=D3&region=D4&region=D5&region=D6&region=D7&region=D8&region=D9\"\n",
    "     while(i < len(Begriffe)): \n",
    "        url = url.replace(Begriffe[i], Begriffe[i+1])\n",
    "        print(url)\n",
    "        i = i+1\n",
    "changeURLGulp(Begriffe)"
   ]
  },
  {
   "cell_type": "markdown",
   "metadata": {},
   "source": [
    "Speichert Ergebnislinks in Liste"
   ]
  },
  {
   "cell_type": "code",
   "execution_count": null,
   "metadata": {},
   "outputs": [],
   "source": [
    "#DEBUG\n",
    "def getLinksGulp(url): \n",
    "    page = requests.get(url)\n",
    "    soup = BeautifulSoup(page.text, 'lxml')\n",
    "    links = []\n",
    "    baseUrl = \"https://gulp.de\"\n",
    "    for link in soup.findAll('a', href=True): \n",
    "        newLink = baseUrl.join(link)\n",
    "        #links.append(link.get('href'))\n",
    "    return newLink\n",
    "print(getLinksGulp(\"https://www.gulp.de/gulp2/g/projekte?scope=projects&query=Hadoop&order=DATE_DESC&region=D0&region=D1&region=D2&region=D3&region=D4&region=D5&region=D6&region=D7&region=D8&region=D9\"))"
   ]
  },
  {
   "cell_type": "markdown",
   "metadata": {},
   "source": [
    "### Solcom"
   ]
  },
  {
   "cell_type": "code",
   "execution_count": 8,
   "metadata": {},
   "outputs": [],
   "source": [
    "# Benutze Google Chrome und es ist lokal gespeichert\n",
    "\n",
    "driver = webdriver.Chrome('/Users/vonderheyden/Downloads/chromedriver_win32/chromedriver.exe')\n",
    "driver.get('https://www.solcom.de/de/projektportal/projektangebote')\n",
    "\n",
    "# Stellt die Standardfilter ein\n",
    "def editFilter(): \n",
    "    driver.find_element_by_id(\"keyword\").send_keys(\"Hadoop\") # Default: Erster Begriff\n",
    "    time.sleep(1)\n",
    "    driver.find_element_by_class_name(\"prio1.acceptall\").click()\n",
    "    driver.find_element_by_class_name(\"current-selection\").click()\n",
    "    driver.find_element_by_xpath('//*[@id=\"main\"]/div/div/div/div/div/div[1]/div[1]/form/div[3]/div/div[2]/ul/li[2]/div/ins').click()\n",
    "    driver.find_element_by_xpath('//*[@id=\"main\"]/div/div/div/div/div/div[1]/div[1]/form/div[3]/div/div[2]/ul/li[5]/div[1]/ins').click()\n",
    "    driver.find_element_by_xpath('//*[@id=\"main\"]/div/div/div/div/div/div[1]/div[1]/form/button[1]').click()\n",
    "\n",
    "editFilter()\n",
    "\n"
   ]
  },
  {
   "cell_type": "markdown",
   "metadata": {},
   "source": [
    "### Westhouse"
   ]
  },
  {
   "cell_type": "code",
   "execution_count": 9,
   "metadata": {},
   "outputs": [],
   "source": [
    "driver = webdriver.Chrome('/Users/vonderheyden/Downloads/chromedriver_win32/chromedriver.exe')\n",
    "driver.get('https://www.westhouse-group.com/en/for_candidates')\n",
    "\n",
    "# Stellt die Standardfilter ein\n",
    "# F oder P muss bei der aktiven Informationsextraktion gefiltert werden\n",
    "def editFilter(): \n",
    "    time.sleep(1)\n",
    "    driver.find_element_by_xpath('//*[@id=\"CookieBoxSaveButton\"]').click()\n",
    "    time.sleep(1)\n",
    "    driver.find_element_by_id('job-finder-search-keyword').send_keys(\"Hadoop\")\n",
    "    driver.find_element_by_xpath('//*[@id=\"headingjobtype2\"]/p/a/span/i[1]').click()\n",
    "\n",
    "editFilter()"
   ]
  },
  {
   "cell_type": "markdown",
   "metadata": {},
   "source": [
    "### Freelancermap"
   ]
  },
  {
   "cell_type": "code",
   "execution_count": null,
   "metadata": {},
   "outputs": [],
   "source": [
    "driver = webdriver.Chrome(\"/Users/vonderheyden/Downloads/chromedriver_win32/chromedriver.exe\")\n",
    "# Gefiltert ohne Hadoop\n",
    "driver.get(\"https://www.freelancermap.de/projektboerse.html?profisuche=1&pq_vertragsart%5Bcontract_type.remote%5D=REMOTE&pq_projekteinstellung=0&pq_sorttype=1&mCats%5B0%5D=1&mCats%5B1%5D=2&mCats%5B2%5D=3&mCats%5B3%5D=4&mCats%5B4%5D=5&mCats%5B5%5D=6&sCou%5B0%5D=1\")\n",
    "\n",
    "# Hadoop eingegeben\n",
    "\"https://www.freelancermap.de/?module=projekt&func=suchergebnisse&pq=Hadoop&profisuche=0&pq_sorttype=1&mCats[]=1&mCats[]=2&mCats[]=3&mCats[]=4&mCats[]=5&mCats[]=6&redirect=1\""
   ]
  }
 ],
 "metadata": {
  "kernelspec": {
   "display_name": "Python 3",
   "language": "python",
   "name": "python3"
  },
  "language_info": {
   "codemirror_mode": {
    "name": "ipython",
    "version": 3
   },
   "file_extension": ".py",
   "mimetype": "text/x-python",
   "name": "python",
   "nbconvert_exporter": "python",
   "pygments_lexer": "ipython3",
   "version": "3.8.5"
  }
 },
 "nbformat": 4,
 "nbformat_minor": 2
}
